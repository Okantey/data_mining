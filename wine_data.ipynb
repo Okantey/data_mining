{
  "nbformat": 4,
  "nbformat_minor": 0,
  "metadata": {
    "colab": {
      "provenance": [],
      "authorship_tag": "ABX9TyOehFH6yJcuH7xliCfDu8jl",
      "include_colab_link": true
    },
    "kernelspec": {
      "name": "python3",
      "display_name": "Python 3"
    },
    "language_info": {
      "name": "python"
    }
  },
  "cells": [
    {
      "cell_type": "markdown",
      "metadata": {
        "id": "view-in-github",
        "colab_type": "text"
      },
      "source": [
        "<a href=\"https://colab.research.google.com/github/Okantey/wine_dataset/blob/main/wine_data.ipynb\" target=\"_parent\"><img src=\"https://colab.research.google.com/assets/colab-badge.svg\" alt=\"Open In Colab\"/></a>"
      ]
    },
    {
      "cell_type": "code",
      "execution_count": 5,
      "metadata": {
        "id": "qqKIMrkxS-TA"
      },
      "outputs": [],
      "source": [
        "import pandas as pd\n",
        "from sklearn.model_selection import train_test_split\n",
        "from sklearn.tree import DecisionTreeClassifier\n",
        "from sklearn.metrics import classification_report"
      ]
    },
    {
      "cell_type": "code",
      "source": [
        "#Loading or importing  wine dataset to notebook\n",
        "cols = [\"class\", \"Alcohol\", \"Malicacid\", \"Ash\", \"Alcalinity_of_ash\", \"Magnesium\", \"Total_phenols\", \"Flavanoids\", \"Nonflavanoid_phenols\", \"Proanthocyanins\", \"Color_intensity\", \"Hue\", \"0D280_0D315_of_diluted_wines\", \"Proline\" ]\n",
        "wine_data = pd.read_csv(\"wine.data\", names = cols)\n",
        "wine_data.head()"
      ],
      "metadata": {
        "id": "zLz2i6GdU1mU"
      },
      "execution_count": null,
      "outputs": []
    },
    {
      "cell_type": "code",
      "source": [
        "#split the data into training and validation sets\n",
        "wine_features = wine_data.drop(\"class\", axis=1)\n",
        "wine_labels = wine_data[\"class\"]\n",
        "wine_train_features, wine_val_features, wine_train_labels, wine_val_labels = train_test_split(wine_features, wine_labels, test_size =0.2, random_state=42)\n",
        "\n"
      ],
      "metadata": {
        "id": "am15AdECfY6j"
      },
      "execution_count": 8,
      "outputs": []
    },
    {
      "cell_type": "code",
      "source": [
        "# train and evaluate the decision tree\n",
        "wine_tree = DecisionTreeClassifier(criterion=\"gini\", max_depth=None, random_state=42)\n",
        "wine_tree.fit(wine_train_features, wine_train_labels)\n",
        "wine_val_predictions = wine_tree.predict(wine_val_features)\n",
        "wine_classification_report = classification_report(wine_val_labels, wine_val_predictions)\n",
        "print(\"Wine Decision Tree Classification Report:\")\n",
        "print(wine_classification_report)\n"
      ],
      "metadata": {
        "id": "MDOYscCmjW94"
      },
      "execution_count": null,
      "outputs": []
    },
    {
      "cell_type": "code",
      "source": [
        "#determine confused class pairs\n",
        "wine_confusion_matrix  = pd.crosstab(wine_val_labels, wine_val_predictions)\n",
        "print(\"Wine Confusion Matrix:\")\n",
        "print(wine_confusion_matrix)"
      ],
      "metadata": {
        "id": "wSzpK2jcmH9M"
      },
      "execution_count": null,
      "outputs": []
    },
    {
      "cell_type": "code",
      "source": [
        "#selecting a confused pair and identifying the corresponding leaf nodes\n",
        "confused_classes = [(1,2)]\n",
        "for class_pair in confused_classes:\n",
        "  class1, class2 = class_pair\n",
        "  misclassified_samples = wine_val_features[(wine_val_labels == class1) & (wine_val_predictions == class2)]\n",
        "  leaf_nodes = wine_tree.apply(misclassified_samples)\n",
        "  print(f\"Leaf nodes corresponding to misclassification between class {class1} and class {class2}:\")\n",
        "  #print leaf nodes\n",
        "  print(leaf_nodes)"
      ],
      "metadata": {
        "id": "5DjxdYoWmuZX"
      },
      "execution_count": null,
      "outputs": []
    },
    {
      "cell_type": "code",
      "source": [
        "print(wine_features.columns)"
      ],
      "metadata": {
        "colab": {
          "base_uri": "https://localhost:8080/"
        },
        "id": "skq8t28IrHa5",
        "outputId": "c664ffcf-d806-475f-d90c-14d133fa0a0d"
      },
      "execution_count": 44,
      "outputs": [
        {
          "output_type": "stream",
          "name": "stdout",
          "text": [
            "Index(['Alcohol', 'Malicacid', 'Ash', 'Alcalinity_of_ash', 'Magnesium',\n",
            "       'Total_phenols', 'Flavanoids', 'Nonflavanoid_phenols',\n",
            "       'Proanthocyanins', 'Color_intensity', 'Hue',\n",
            "       '0D280_0D315_of_diluted_wines', 'Proline'],\n",
            "      dtype='object')\n"
          ]
        }
      ]
    },
    {
      "cell_type": "code",
      "source": [
        "# Compare decision trees with different attribute subsets\n",
        "attribute_subsets = [\n",
        "    [\"Alcohol\", \"Malicacid\", \"Ash\", \"Alcalinity_of_ash\", \"Magnesium\"],  # Subset 1\n",
        "    [\"Total_phenols\", \"Flavanoids\", \"Nonflavanoid_phenols\", \"Proanthocyanins\"],  # Subset 2\n",
        "    [\"Color_intensity\", \"Hue\", \"0D280_0D315_of_diluted_wines\", \"Proline\"]  # Subset 3\n",
        "]\n",
        "\n",
        "original_tree = DecisionTreeClassifier(criterion=\"gini\", max_depth=None, random_state=42)\n",
        "original_tree.fit(wine_train_features, wine_train_labels)\n",
        "original_val_predictions = original_tree.predict(wine_val_features)\n",
        "original_classification_report = classification_report(wine_val_labels, original_val_predictions)\n",
        "print(\"Original Decision Tree Classification Report:\")\n",
        "print(original_classification_report)\n",
        "\n",
        "for subset in attribute_subsets:\n",
        "    subset_train_features = wine_train_features[subset]\n",
        "    subset_val_features = wine_val_features[subset]\n",
        "\n",
        "    subset_tree = DecisionTreeClassifier(criterion=\"gini\", max_depth=None, random_state=42)\n",
        "    subset_tree.fit(subset_train_features, wine_train_labels)\n",
        "    subset_val_predictions = subset_tree.predict(subset_val_features)\n",
        "    subset_classification_report = classification_report(wine_val_labels, subset_val_predictions)\n",
        "\n",
        "    print(f\"Subset: {subset}\")\n",
        "    print(f\"Subset Decision Tree Classification Report:\")\n",
        "    print(subset_classification_report)"
      ],
      "metadata": {
        "colab": {
          "base_uri": "https://localhost:8080/"
        },
        "id": "quZyksSuoGRS",
        "outputId": "d14f63ee-afc8-4ccd-c726-01bfaab789fc"
      },
      "execution_count": 10,
      "outputs": [
        {
          "output_type": "stream",
          "name": "stdout",
          "text": [
            "Original Decision Tree Classification Report:\n",
            "              precision    recall  f1-score   support\n",
            "\n",
            "           1       0.93      0.93      0.93        14\n",
            "           2       0.93      1.00      0.97        14\n",
            "           3       1.00      0.88      0.93         8\n",
            "\n",
            "    accuracy                           0.94        36\n",
            "   macro avg       0.95      0.93      0.94        36\n",
            "weighted avg       0.95      0.94      0.94        36\n",
            "\n",
            "Subset: ['Alcohol', 'Malicacid', 'Ash', 'Alcalinity_of_ash', 'Magnesium']\n",
            "Subset Decision Tree Classification Report:\n",
            "              precision    recall  f1-score   support\n",
            "\n",
            "           1       0.92      0.79      0.85        14\n",
            "           2       0.92      0.86      0.89        14\n",
            "           3       0.64      0.88      0.74         8\n",
            "\n",
            "    accuracy                           0.83        36\n",
            "   macro avg       0.83      0.84      0.82        36\n",
            "weighted avg       0.86      0.83      0.84        36\n",
            "\n",
            "Subset: ['Total_phenols', 'Flavanoids', 'Nonflavanoid_phenols', 'Proanthocyanins']\n",
            "Subset Decision Tree Classification Report:\n",
            "              precision    recall  f1-score   support\n",
            "\n",
            "           1       0.80      0.86      0.83        14\n",
            "           2       0.71      0.71      0.71        14\n",
            "           3       0.86      0.75      0.80         8\n",
            "\n",
            "    accuracy                           0.78        36\n",
            "   macro avg       0.79      0.77      0.78        36\n",
            "weighted avg       0.78      0.78      0.78        36\n",
            "\n",
            "Subset: ['Color_intensity', 'Hue', '0D280_0D315_of_diluted_wines', 'Proline']\n",
            "Subset Decision Tree Classification Report:\n",
            "              precision    recall  f1-score   support\n",
            "\n",
            "           1       0.93      1.00      0.97        14\n",
            "           2       1.00      1.00      1.00        14\n",
            "           3       1.00      0.88      0.93         8\n",
            "\n",
            "    accuracy                           0.97        36\n",
            "   macro avg       0.98      0.96      0.97        36\n",
            "weighted avg       0.97      0.97      0.97        36\n",
            "\n"
          ]
        }
      ]
    }
  ]
}